{
 "cells": [
  {
   "cell_type": "code",
   "execution_count": 1,
   "id": "ba15d5b1-9788-4c65-89c0-0d918a13d549",
   "metadata": {},
   "outputs": [
    {
     "name": "stdout",
     "output_type": "stream",
     "text": [
      "The optimal value is: 5\n"
     ]
    }
   ],
   "source": [
    "# Python3 program to demonstrate Alpha-Beta Pruning\n",
    "\n",
    "# Initial values of Alpha and Beta\n",
    "MAX, MIN = 1000, -1000\n",
    "\n",
    "# Returns optimal value for the current player (Initially called for root and maximizer)\n",
    "def minimax(depth, nodeIndex, maximizingPlayer, values, alpha, beta):\n",
    "    # Terminating condition: leaf node is reached\n",
    "    if depth == 3:\n",
    "        return values[nodeIndex]\n",
    "\n",
    "    if maximizingPlayer:\n",
    "        best = MIN  # Worst case for maximizer\n",
    "\n",
    "        # Recur for left and right children\n",
    "        for i in range(2):\n",
    "            val = minimax(depth + 1, nodeIndex * 2 + i, False, values, alpha, beta)\n",
    "            best = max(best, val)\n",
    "            alpha = max(alpha, best)  # Alpha Pruning\n",
    "\n",
    "            # Alpha-Beta Pruning\n",
    "            if beta <= alpha:\n",
    "                break\n",
    "        \n",
    "        return best\n",
    "\n",
    "    else:\n",
    "        best = MAX  # Worst case for minimizer\n",
    "\n",
    "        # Recur for left and right children\n",
    "        for i in range(2):\n",
    "            val = minimax(depth + 1, nodeIndex * 2 + i, True, values, alpha, beta)\n",
    "            best = min(best, val)\n",
    "            beta = min(beta, best)  # Beta Pruning\n",
    "\n",
    "            # Alpha-Beta Pruning\n",
    "            if beta <= alpha:\n",
    "                break\n",
    "\n",
    "        return best\n",
    "\n",
    "# Driver Code\n",
    "if __name__ == \"__main__\":\n",
    "    values = [3, 5, 6, 9, 1, 2, 0, -1]\n",
    "    print(\"The optimal value is:\", minimax(0, 0, True, values, MIN, MAX))\n"
   ]
  },
  {
   "cell_type": "code",
   "execution_count": null,
   "id": "8323aed8-b514-471f-873a-9de0cf68d541",
   "metadata": {},
   "outputs": [],
   "source": []
  }
 ],
 "metadata": {
  "kernelspec": {
   "display_name": "Python [conda env:base] *",
   "language": "python",
   "name": "conda-base-py"
  },
  "language_info": {
   "codemirror_mode": {
    "name": "ipython",
    "version": 3
   },
   "file_extension": ".py",
   "mimetype": "text/x-python",
   "name": "python",
   "nbconvert_exporter": "python",
   "pygments_lexer": "ipython3",
   "version": "3.12.7"
  }
 },
 "nbformat": 4,
 "nbformat_minor": 5
}
